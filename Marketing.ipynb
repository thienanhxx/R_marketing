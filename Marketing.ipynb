{
 "cells": [
  {
   "cell_type": "markdown",
   "id": "cbe74493-088a-483c-b103-59c15039d728",
   "metadata": {
    "tags": []
   },
   "source": [
    "### Yêu cầu 1"
   ]
  },
  {
   "cell_type": "code",
   "execution_count": 1,
   "id": "336a4537-52e3-4a53-a9c7-da45f7ff0a4b",
   "metadata": {},
   "outputs": [],
   "source": [
    "# Đọc dữ liệu\n",
    "data <- read.csv('Dataset/marketing.csv')"
   ]
  },
  {
   "cell_type": "code",
   "execution_count": 2,
   "id": "6af4e87d-5b40-4e80-9d32-362b4c07c337",
   "metadata": {},
   "outputs": [
    {
     "data": {
      "text/html": [
       "<table class=\"dataframe\">\n",
       "<caption>A data.frame: 6 × 4</caption>\n",
       "<thead>\n",
       "\t<tr><th></th><th scope=col>youtube</th><th scope=col>facebook</th><th scope=col>newspaper</th><th scope=col>sales</th></tr>\n",
       "\t<tr><th></th><th scope=col>&lt;dbl&gt;</th><th scope=col>&lt;dbl&gt;</th><th scope=col>&lt;dbl&gt;</th><th scope=col>&lt;dbl&gt;</th></tr>\n",
       "</thead>\n",
       "<tbody>\n",
       "\t<tr><th scope=row>1</th><td>276.12</td><td>45.36</td><td>83.04</td><td>26.52</td></tr>\n",
       "\t<tr><th scope=row>2</th><td> 53.40</td><td>47.16</td><td>54.12</td><td>12.48</td></tr>\n",
       "\t<tr><th scope=row>3</th><td> 20.64</td><td>55.08</td><td>83.16</td><td>11.16</td></tr>\n",
       "\t<tr><th scope=row>4</th><td>181.80</td><td>49.56</td><td>70.20</td><td>22.20</td></tr>\n",
       "\t<tr><th scope=row>5</th><td>216.96</td><td>12.96</td><td>70.08</td><td>15.48</td></tr>\n",
       "\t<tr><th scope=row>6</th><td> 10.44</td><td>58.68</td><td>90.00</td><td> 8.64</td></tr>\n",
       "</tbody>\n",
       "</table>\n"
      ],
      "text/latex": [
       "A data.frame: 6 × 4\n",
       "\\begin{tabular}{r|llll}\n",
       "  & youtube & facebook & newspaper & sales\\\\\n",
       "  & <dbl> & <dbl> & <dbl> & <dbl>\\\\\n",
       "\\hline\n",
       "\t1 & 276.12 & 45.36 & 83.04 & 26.52\\\\\n",
       "\t2 &  53.40 & 47.16 & 54.12 & 12.48\\\\\n",
       "\t3 &  20.64 & 55.08 & 83.16 & 11.16\\\\\n",
       "\t4 & 181.80 & 49.56 & 70.20 & 22.20\\\\\n",
       "\t5 & 216.96 & 12.96 & 70.08 & 15.48\\\\\n",
       "\t6 &  10.44 & 58.68 & 90.00 &  8.64\\\\\n",
       "\\end{tabular}\n"
      ],
      "text/markdown": [
       "\n",
       "A data.frame: 6 × 4\n",
       "\n",
       "| <!--/--> | youtube &lt;dbl&gt; | facebook &lt;dbl&gt; | newspaper &lt;dbl&gt; | sales &lt;dbl&gt; |\n",
       "|---|---|---|---|---|\n",
       "| 1 | 276.12 | 45.36 | 83.04 | 26.52 |\n",
       "| 2 |  53.40 | 47.16 | 54.12 | 12.48 |\n",
       "| 3 |  20.64 | 55.08 | 83.16 | 11.16 |\n",
       "| 4 | 181.80 | 49.56 | 70.20 | 22.20 |\n",
       "| 5 | 216.96 | 12.96 | 70.08 | 15.48 |\n",
       "| 6 |  10.44 | 58.68 | 90.00 |  8.64 |\n",
       "\n"
      ],
      "text/plain": [
       "  youtube facebook newspaper sales\n",
       "1 276.12  45.36    83.04     26.52\n",
       "2  53.40  47.16    54.12     12.48\n",
       "3  20.64  55.08    83.16     11.16\n",
       "4 181.80  49.56    70.20     22.20\n",
       "5 216.96  12.96    70.08     15.48\n",
       "6  10.44  58.68    90.00      8.64"
      ]
     },
     "metadata": {},
     "output_type": "display_data"
    }
   ],
   "source": [
    "# In thông tin chung từ dữ liệu: head(), số dòng, số cột, str(), summary()\n",
    "head(data)"
   ]
  },
  {
   "cell_type": "code",
   "execution_count": 3,
   "id": "559aacd4-4c8b-4ec2-a8db-8c2aa9c99e6f",
   "metadata": {},
   "outputs": [
    {
     "data": {
      "text/html": [
       "<table class=\"dataframe\">\n",
       "<caption>A data.frame: 6 × 4</caption>\n",
       "<thead>\n",
       "\t<tr><th></th><th scope=col>youtube</th><th scope=col>facebook</th><th scope=col>newspaper</th><th scope=col>sales</th></tr>\n",
       "\t<tr><th></th><th scope=col>&lt;dbl&gt;</th><th scope=col>&lt;dbl&gt;</th><th scope=col>&lt;dbl&gt;</th><th scope=col>&lt;dbl&gt;</th></tr>\n",
       "</thead>\n",
       "<tbody>\n",
       "\t<tr><th scope=row>195</th><td>179.64</td><td>42.72</td><td> 7.20</td><td>20.76</td></tr>\n",
       "\t<tr><th scope=row>196</th><td> 45.84</td><td> 4.44</td><td>16.56</td><td> 9.12</td></tr>\n",
       "\t<tr><th scope=row>197</th><td>113.04</td><td> 5.88</td><td> 9.72</td><td>11.64</td></tr>\n",
       "\t<tr><th scope=row>198</th><td>212.40</td><td>11.16</td><td> 7.68</td><td>15.36</td></tr>\n",
       "\t<tr><th scope=row>199</th><td>340.32</td><td>50.40</td><td>79.44</td><td>30.60</td></tr>\n",
       "\t<tr><th scope=row>200</th><td>278.52</td><td>10.32</td><td>10.44</td><td>16.08</td></tr>\n",
       "</tbody>\n",
       "</table>\n"
      ],
      "text/latex": [
       "A data.frame: 6 × 4\n",
       "\\begin{tabular}{r|llll}\n",
       "  & youtube & facebook & newspaper & sales\\\\\n",
       "  & <dbl> & <dbl> & <dbl> & <dbl>\\\\\n",
       "\\hline\n",
       "\t195 & 179.64 & 42.72 &  7.20 & 20.76\\\\\n",
       "\t196 &  45.84 &  4.44 & 16.56 &  9.12\\\\\n",
       "\t197 & 113.04 &  5.88 &  9.72 & 11.64\\\\\n",
       "\t198 & 212.40 & 11.16 &  7.68 & 15.36\\\\\n",
       "\t199 & 340.32 & 50.40 & 79.44 & 30.60\\\\\n",
       "\t200 & 278.52 & 10.32 & 10.44 & 16.08\\\\\n",
       "\\end{tabular}\n"
      ],
      "text/markdown": [
       "\n",
       "A data.frame: 6 × 4\n",
       "\n",
       "| <!--/--> | youtube &lt;dbl&gt; | facebook &lt;dbl&gt; | newspaper &lt;dbl&gt; | sales &lt;dbl&gt; |\n",
       "|---|---|---|---|---|\n",
       "| 195 | 179.64 | 42.72 |  7.20 | 20.76 |\n",
       "| 196 |  45.84 |  4.44 | 16.56 |  9.12 |\n",
       "| 197 | 113.04 |  5.88 |  9.72 | 11.64 |\n",
       "| 198 | 212.40 | 11.16 |  7.68 | 15.36 |\n",
       "| 199 | 340.32 | 50.40 | 79.44 | 30.60 |\n",
       "| 200 | 278.52 | 10.32 | 10.44 | 16.08 |\n",
       "\n"
      ],
      "text/plain": [
       "    youtube facebook newspaper sales\n",
       "195 179.64  42.72     7.20     20.76\n",
       "196  45.84   4.44    16.56      9.12\n",
       "197 113.04   5.88     9.72     11.64\n",
       "198 212.40  11.16     7.68     15.36\n",
       "199 340.32  50.40    79.44     30.60\n",
       "200 278.52  10.32    10.44     16.08"
      ]
     },
     "metadata": {},
     "output_type": "display_data"
    }
   ],
   "source": [
    "tail(data)"
   ]
  },
  {
   "cell_type": "code",
   "execution_count": 4,
   "id": "9ed36f57-f947-4fb8-83cb-9efdf00d3bb5",
   "metadata": {},
   "outputs": [
    {
     "name": "stdout",
     "output_type": "stream",
     "text": [
      "'data.frame':\t200 obs. of  4 variables:\n",
      " $ youtube  : num  276.1 53.4 20.6 181.8 217 ...\n",
      " $ facebook : num  45.4 47.2 55.1 49.6 13 ...\n",
      " $ newspaper: num  83 54.1 83.2 70.2 70.1 ...\n",
      " $ sales    : num  26.5 12.5 11.2 22.2 15.5 ...\n"
     ]
    }
   ],
   "source": [
    "str(data)"
   ]
  },
  {
   "cell_type": "code",
   "execution_count": 5,
   "id": "6f2d7528-489f-43b1-8419-a14e380275b3",
   "metadata": {},
   "outputs": [
    {
     "data": {
      "text/plain": [
       "    youtube          facebook       newspaper          sales      \n",
       " Min.   :  0.84   Min.   : 0.00   Min.   :  0.36   Min.   : 1.92  \n",
       " 1st Qu.: 89.25   1st Qu.:11.97   1st Qu.: 15.30   1st Qu.:12.45  \n",
       " Median :179.70   Median :27.48   Median : 30.90   Median :15.48  \n",
       " Mean   :176.45   Mean   :27.92   Mean   : 36.66   Mean   :16.83  \n",
       " 3rd Qu.:262.59   3rd Qu.:43.83   3rd Qu.: 54.12   3rd Qu.:20.88  \n",
       " Max.   :355.68   Max.   :59.52   Max.   :136.80   Max.   :32.40  "
      ]
     },
     "metadata": {},
     "output_type": "display_data"
    }
   ],
   "source": [
    "summary(data)"
   ]
  },
  {
   "cell_type": "code",
   "execution_count": 6,
   "id": "bacaf5dd-642d-4909-a54a-a8af700fe06e",
   "metadata": {},
   "outputs": [
    {
     "name": "stdout",
     "output_type": "stream",
     "text": [
      "[1] \"cols: 4\"\n",
      "[1] \"rows: 200\"\n"
     ]
    }
   ],
   "source": [
    "print(paste('cols:', ncol(data)))\n",
    "print(paste('rows:', nrow(data)))"
   ]
  },
  {
   "cell_type": "code",
   "execution_count": 7,
   "id": "7394b385-aa12-4c32-8929-1933dc6a885c",
   "metadata": {},
   "outputs": [
    {
     "data": {
      "text/html": [
       "0.782224424861606"
      ],
      "text/latex": [
       "0.782224424861606"
      ],
      "text/markdown": [
       "0.782224424861606"
      ],
      "text/plain": [
       "[1] 0.7822244"
      ]
     },
     "metadata": {},
     "output_type": "display_data"
    },
    {
     "data": {
      "image/png": "[encoded data removed]",
      "text/plain": [
       "Plot with title \"sales vs youtube\""
      ]
     },
     "metadata": {
      "image/png": {
       "height": 420,
       "width": 420
      }
     },
     "output_type": "display_data"
    }
   ],
   "source": [
    "cor(data$sales, data$youtube)\n",
    "\n",
    "# Vẽ biểu đồ quan sát mối liên hệ giữa sales và youtube\n",
    "scatter.smooth(x=data$sales, y = data$youtube,\n",
    "               main = 'sales vs youtube')"
   ]
  },
  {
   "cell_type": "markdown",
   "id": "fd8ff3fc-6cf5-43c2-a035-b397aa864574",
   "metadata": {},
   "source": [
    "- Nhận xét: correlation khá cao ~0.78 giữa sales và youtube"
   ]
  },
  {
   "cell_type": "code",
   "execution_count": 8,
   "id": "5ab235fb-e527-475c-ad11-dd36820c612a",
   "metadata": {},
   "outputs": [
    {
     "data": {
      "text/html": [
       "FALSE"
      ],
      "text/latex": [
       "FALSE"
      ],
      "text/markdown": [
       "FALSE"
      ],
      "text/plain": [
       "[1] FALSE"
      ]
     },
     "metadata": {},
     "output_type": "display_data"
    }
   ],
   "source": [
    "# Kiểm tra null\n",
    "(any(is.na(data)))"
   ]
  },
  {
   "cell_type": "markdown",
   "id": "078dda95-1ecb-47b3-ac95-0ced3465ac5f",
   "metadata": {},
   "source": [
    "- Nhận xét: Không có giá trị NULL trong dataframe"
   ]
  },
  {
   "cell_type": "code",
   "execution_count": 9,
   "id": "e8ae3c4b-1eee-44d2-b412-fbdf7dd98a36",
   "metadata": {},
   "outputs": [
    {
     "data": {
      "image/png": "[encoded data removed]",
      "text/plain": [
       "Plot with title \"youtube\""
      ]
     },
     "metadata": {
      "image/png": {
       "height": 420,
       "width": 420
      }
     },
     "output_type": "display_data"
    }
   ],
   "source": [
    "# Kiểm tra và xử lý outliers\n",
    "par(mfrow = c(1,2)) # divide graph area in 2 columns\n",
    "boxplot(data$sales, main = 'sales')\n",
    "boxplot(data$youtube, main = 'youtube')"
   ]
  },
  {
   "cell_type": "markdown",
   "id": "be7d559d-eb8e-4a76-80df-0eaed53d09e7",
   "metadata": {},
   "source": [
    "- Nhận xét: sales và youtube không có outliers"
   ]
  },
  {
   "cell_type": "code",
   "execution_count": 10,
   "id": "3c9b5a10-c039-4567-8e3a-06d12c4ead33",
   "metadata": {},
   "outputs": [
    {
     "name": "stdout",
     "output_type": "stream",
     "text": [
      "[1] \"Selected training row indexes:\"\n",
      "  [1]  49  65 153  74 146 122 200 128  47  24  71 100  89 165 110  20 154 114\n",
      " [19] 111 131  41 188  27 164 109   5 162  92 104   3  58  42 191 158  43 143\n",
      " [37] 150 170 136  36  68 196 176 173   4  99 184 183   6 134 130 116 171 118\n",
      " [55]   2 102 138  40 175  33 103 167  73  76   9  35  16 101  69 147 177  82\n",
      " [73] 168 113  18 132 186 172  55 187  21 189  57 119 140 169 126  91  13  53\n",
      " [91]  54  83  32  80  60  29  81 144  85 166 163  72 105 195  38   1 112  78\n",
      "[109] 142 149  97 151 133 115  87 181  98  25  63 108  14 152 192  88  62  37\n",
      "[127]  31  34  79  96 155  15 127  86 106  12  64  26 180  95\n",
      "[1] \"Rows of training data and testing data:\"\n",
      "[1] 140\n",
      "[1] 60\n"
     ]
    }
   ],
   "source": [
    "# Tạo train:test từ dữ liệu data với tỉ lệ 70:30\n",
    "set.seed(42)\n",
    "trainingRowIndex <- sample(1:nrow(data), 0.7*nrow(data))\n",
    "print('Selected training row indexes:')\n",
    "print(trainingRowIndex)\n",
    "trainingData <- data[trainingRowIndex,] # training data\n",
    "testData <- data[-trainingRowIndex, ] # test data\n",
    "print('Rows of training data and testing data:')\n",
    "print(nrow(trainingData))\n",
    "print(nrow(testData))"
   ]
  },
  {
   "cell_type": "code",
   "execution_count": 11,
   "id": "677405e1-45d9-4107-8898-971858cffd28",
   "metadata": {},
   "outputs": [],
   "source": [
    "# Thực hiện linear Regression với train data.\n",
    "lmMod <- lm(sales ~ youtube, data = trainingData) # build the model"
   ]
  },
  {
   "cell_type": "code",
   "execution_count": 12,
   "id": "1fb4dfb9-2754-4d13-9846-1b53ff9ba8f3",
   "metadata": {},
   "outputs": [
    {
     "data": {
      "text/plain": [
       "\n",
       "Call:\n",
       "lm(formula = sales ~ youtube, data = trainingData)\n",
       "\n",
       "Residuals:\n",
       "    Min      1Q  Median      3Q     Max \n",
       "-9.5217 -2.4725 -0.1652  2.5124  8.2946 \n",
       "\n",
       "Coefficients:\n",
       "            Estimate Std. Error t value Pr(>|t|)    \n",
       "(Intercept)  8.52760    0.66735   12.78   <2e-16 ***\n",
       "youtube      0.04688    0.00315   14.88   <2e-16 ***\n",
       "---\n",
       "Signif. codes:  0 '***' 0.001 '**' 0.01 '*' 0.05 '.' 0.1 ' ' 1\n",
       "\n",
       "Residual standard error: 3.814 on 138 degrees of freedom\n",
       "Multiple R-squared:  0.6161,\tAdjusted R-squared:  0.6134 \n",
       "F-statistic: 221.5 on 1 and 138 DF,  p-value: < 2.2e-16\n"
      ]
     },
     "metadata": {},
     "output_type": "display_data"
    }
   ],
   "source": [
    "# In summary của model\n",
    "summary(lmMod)"
   ]
  },
  {
   "cell_type": "code",
   "execution_count": 13,
   "id": "1ed2b470-5f02-42ac-869c-77a7f21b7157",
   "metadata": {},
   "outputs": [
    {
     "data": {
      "text/html": [
       "<table class=\"dataframe\">\n",
       "<caption>A data.frame: 6 × 2</caption>\n",
       "<thead>\n",
       "\t<tr><th></th><th scope=col>iPred</th><th scope=col>sales</th></tr>\n",
       "\t<tr><th></th><th scope=col>&lt;dbl&gt;</th><th scope=col>&lt;dbl&gt;</th></tr>\n",
       "</thead>\n",
       "<tbody>\n",
       "\t<tr><th scope=row>7</th><td>11.76</td><td>14.16</td></tr>\n",
       "\t<tr><th scope=row>8</th><td>15.29</td><td>15.84</td></tr>\n",
       "\t<tr><th scope=row>10</th><td>19.77</td><td>12.72</td></tr>\n",
       "\t<tr><th scope=row>11</th><td>12.25</td><td>10.32</td></tr>\n",
       "\t<tr><th scope=row>17</th><td>12.34</td><td>15.00</td></tr>\n",
       "\t<tr><th scope=row>19</th><td>12.42</td><td>13.56</td></tr>\n",
       "</tbody>\n",
       "</table>\n"
      ],
      "text/latex": [
       "A data.frame: 6 × 2\n",
       "\\begin{tabular}{r|ll}\n",
       "  & iPred & sales\\\\\n",
       "  & <dbl> & <dbl>\\\\\n",
       "\\hline\n",
       "\t7 & 11.76 & 14.16\\\\\n",
       "\t8 & 15.29 & 15.84\\\\\n",
       "\t10 & 19.77 & 12.72\\\\\n",
       "\t11 & 12.25 & 10.32\\\\\n",
       "\t17 & 12.34 & 15.00\\\\\n",
       "\t19 & 12.42 & 13.56\\\\\n",
       "\\end{tabular}\n"
      ],
      "text/markdown": [
       "\n",
       "A data.frame: 6 × 2\n",
       "\n",
       "| <!--/--> | iPred &lt;dbl&gt; | sales &lt;dbl&gt; |\n",
       "|---|---|---|\n",
       "| 7 | 11.76 | 14.16 |\n",
       "| 8 | 15.29 | 15.84 |\n",
       "| 10 | 19.77 | 12.72 |\n",
       "| 11 | 12.25 | 10.32 |\n",
       "| 17 | 12.34 | 15.00 |\n",
       "| 19 | 12.42 | 13.56 |\n",
       "\n"
      ],
      "text/plain": [
       "   iPred sales\n",
       "7  11.76 14.16\n",
       "8  15.29 15.84\n",
       "10 19.77 12.72\n",
       "11 12.25 10.32\n",
       "17 12.34 15.00\n",
       "19 12.42 13.56"
      ]
     },
     "metadata": {},
     "output_type": "display_data"
    }
   ],
   "source": [
    "# Dự đoán y_test_predict từ test data => so sánh y_test_pred với y_test\n",
    "iPred <- predict(lmMod, testData) \n",
    "head(cbind(round(as.data.frame(iPred),2), testData[4]))"
   ]
  },
  {
   "cell_type": "code",
   "execution_count": 14,
   "id": "ff120fc9-5d3c-4745-aa58-7dd45ad1664b",
   "metadata": {},
   "outputs": [
    {
     "name": "stdout",
     "output_type": "stream",
     "text": [
      "[1] \"mse: 14.3404725926901\"\n",
      "[1] \"mse in test: 17.017194022147\"\n",
      "[1] \"r^2 cho train: 0.616146552694467\"\n",
      "[1] \"r^2 cho test: 0.592730879764149\"\n"
     ]
    }
   ],
   "source": [
    "# Tính Mean Square Error (mse), r^2 cho train, r^2 cho test. \n",
    "mse <- mean(lmMod$residuals^2)\n",
    "print(paste('mse:', mse))\n",
    "mse_test <- mean((testData$sales - iPred)^2)\n",
    "print(paste('mse in test:', mse_test))\n",
    "print(paste('r^2 cho train:', summary(lmMod)$r.squared))\n",
    "print(paste('r^2 cho test:', summary(lm(sales ~ youtube, data=testData))$r.squared))"
   ]
  },
  {
   "cell_type": "markdown",
   "id": "dec4c7ec-7c1d-4e30-abae-84cb8e4bd2cf",
   "metadata": {},
   "source": [
    "- Nhận xét: model fits 62% data"
   ]
  },
  {
   "cell_type": "code",
   "execution_count": 15,
   "id": "b35d35db-e92f-407a-ba3c-44b5e2e04f86",
   "metadata": {},
   "outputs": [
    {
     "name": "stdout",
     "output_type": "stream",
     "text": [
      "(Intercept)     youtube \n",
      " 8.52759971  0.04688147 \n"
     ]
    }
   ],
   "source": [
    "# Tìm Coefficients, Intercept\n",
    "print(coef(lmMod))\n",
    "Intercept <- coef(lmMod)['(Intercept)']"
   ]
  },
  {
   "cell_type": "code",
   "execution_count": 16,
   "id": "097e568f-1804-4ab5-a11b-10555450ae1f",
   "metadata": {},
   "outputs": [
    {
     "name": "stdout",
     "output_type": "stream",
     "text": [
      "[1] \"results:\"\n",
      "       1        2        3 \n",
      "13.21575 17.90389 22.59204 \n"
     ]
    }
   ],
   "source": [
    "# Cho youtube lần lượt: x <- c(100, 200, 300) => dự đoán sales.\n",
    "x <- c(100, 200, 300)\n",
    "y <- predict(lmMod, data.frame(youtube = x))\n",
    "print('results:')\n",
    "print(y)"
   ]
  },
  {
   "cell_type": "code",
   "execution_count": 17,
   "id": "47fb8ade-16e0-4d4a-8568-89c0e98bc3aa",
   "metadata": {},
   "outputs": [
    {
     "data": {
      "image/png": "[encoded data removed]",
      "text/plain": [
       "plot without title"
      ]
     },
     "metadata": {
      "image/png": {
       "height": 420,
       "width": 420
      }
     },
     "output_type": "display_data"
    }
   ],
   "source": [
    "# Trực quan hóa kết quả.\n",
    "plot(data$youtube, data$sales,\n",
    "     xlab = 'youtube', ylab = 'sales',\n",
    "     pch = 19, frame = FALSE, col = 'blue')\n",
    "lines(x, y, col = 'red', type = 'p')\n",
    "abline(lmMod, data, col = 'green')\n",
    "legend('topleft', c('dataset', 'data_predict'),\n",
    "       cex = 0.8, fill = c('blue','orange'))"
   ]
  },
  {
   "cell_type": "markdown",
   "id": "0f86e5b7-0e39-47e0-b2f6-9ebf6e430dab",
   "metadata": {},
   "source": [
    "### Yêu cầu 2"
   ]
  },
  {
   "cell_type": "code",
   "execution_count": 18,
   "id": "33c1d453-71d4-47ce-8146-e03285a2b611",
   "metadata": {},
   "outputs": [
    {
     "data": {
      "image/png": "[encoded data removed]",
      "text/plain": [
       "plot without title"
      ]
     },
     "metadata": {
      "image/png": {
       "height": 420,
       "width": 420
      }
     },
     "output_type": "display_data"
    }
   ],
   "source": [
    "pairs(~sales + youtube + facebook + newspaper,\n",
    "     data = data)"
   ]
  },
  {
   "cell_type": "code",
   "execution_count": 19,
   "id": "96dddb34-fbe5-4855-8459-cf04d73203ab",
   "metadata": {},
   "outputs": [
    {
     "name": "stdout",
     "output_type": "stream",
     "text": [
      "[1] \"Correlations sales vs yt and fb and np:\"\n",
      "[1] 0.7822244\n",
      "[1] 0.5762226\n",
      "[1] 0.228299\n"
     ]
    }
   ],
   "source": [
    "# calculate correlation between\n",
    "print('Correlations sales vs yt and fb and np:')\n",
    "print(cor(data$sales,\n",
    "          data$youtube))\n",
    "print(cor(data$sales,\n",
    "          data$facebook))\n",
    "print(cor(data$sales,\n",
    "          data$newspaper))"
   ]
  },
  {
   "cell_type": "markdown",
   "id": "146e4368-7adc-468c-b805-a4301aa06485",
   "metadata": {},
   "source": [
    "- Nhận xét: correlation giữa sales và youtube khá cao, nhưng correlation giữa sales với facebook và newspaper thì thấp"
   ]
  },
  {
   "cell_type": "code",
   "execution_count": 20,
   "id": "0e0c0a8c-60a3-4a3d-9c33-f73297960f6e",
   "metadata": {},
   "outputs": [
    {
     "data": {
      "image/png": "[encoded data removed]",
      "text/plain": [
       "Plot with title \"newspaper\""
      ]
     },
     "metadata": {
      "image/png": {
       "height": 420,
       "width": 420
      }
     },
     "output_type": "display_data"
    }
   ],
   "source": [
    "# Kiểm tra và xử lý outliers\n",
    "par(mfrow = c(1,4)) # divide graph area in 2 columns\n",
    "boxplot(data$sales, main = 'sales')\n",
    "boxplot(data$youtube, main = 'youtube')\n",
    "boxplot(data$facebook, main = 'facebook')\n",
    "boxplot(data$newspaper, main = 'newspaper')"
   ]
  },
  {
   "cell_type": "markdown",
   "id": "bbaea6cc-03c6-4c2e-a04e-1180e28680b7",
   "metadata": {},
   "source": [
    "- Nhận xét: sales, youtube, facebook không có outliers, newspaper có outliers"
   ]
  },
  {
   "cell_type": "code",
   "execution_count": 21,
   "id": "20c874da-0b5e-4fa8-8b9e-f7fb06831e92",
   "metadata": {},
   "outputs": [
    {
     "name": "stdout",
     "output_type": "stream",
     "text": [
      "[1] \"np_outliers:\"\n",
      "[1] 136.80 121.08\n"
     ]
    }
   ],
   "source": [
    "np_outliers <- c(boxplot.stats(data$newspaper)$out)\n",
    "print('np_outliers:')\n",
    "print(np_outliers)"
   ]
  },
  {
   "cell_type": "code",
   "execution_count": 22,
   "id": "dd8f094f-8d55-4bb2-845e-40646fb39456",
   "metadata": {},
   "outputs": [
    {
     "name": "stdout",
     "output_type": "stream",
     "text": [
      "[1] \"Before dropping: 200\"\n",
      "[1] \"After dropping: 198\"\n"
     ]
    }
   ],
   "source": [
    "print(paste('Before dropping:', nrow(data)))\n",
    "for (record in np_outliers) {\n",
    "    data <- data[data$newspaper != record,]\n",
    "    }\n",
    "print(paste('After dropping:', nrow(data)))"
   ]
  },
  {
   "cell_type": "code",
   "execution_count": 23,
   "id": "c6a26db9-6042-4459-abe5-e9b3e02665cf",
   "metadata": {},
   "outputs": [
    {
     "name": "stdout",
     "output_type": "stream",
     "text": [
      "[1] \"Selected training row indexes:\"\n",
      "  [1]  49  65 153  74 146 122 198 128  47  24  71 100  89 165 110  20 154 114\n",
      " [19] 111 131  41 186  27 164 109   5 162  92 104   3  58  42 189 158  43 143\n",
      " [37] 150 168 136  36  68 194 174 171   4  99 181   6 134 130 116 169 118   2\n",
      " [55] 102 138  40 173  33 103 156  73  76   9  35  16 101  69 157  82 166 113\n",
      " [73]  18 179 184 170  55 142  21 187  57 119 139 167 126  91  13  53  54  83\n",
      " [91]  32  80  60  29  81 137  85 175 161  72 105 193  38   1 112  78 141 148\n",
      "[109]  97 133 132 115  87 149  98  25  63 108  14 151 190  88  62  37  31  34\n",
      "[127]  79  96 196  15 127  86 106  12  64  26 178  95\n",
      "[1] \"Rows of training data and testing data:\"\n",
      "[1] 138\n",
      "[1] 60\n"
     ]
    }
   ],
   "source": [
    "# Tạo train:test từ dữ liệu data với tỉ lệ 70:30\n",
    "set.seed(42)\n",
    "trainingRowIndex <- sample(1:nrow(data), 0.7*nrow(data))\n",
    "print('Selected training row indexes:')\n",
    "print(trainingRowIndex)\n",
    "trainingData <- data[trainingRowIndex,] # training data\n",
    "testData <- data[-trainingRowIndex, ] # test data\n",
    "print('Rows of training data and testing data:')\n",
    "print(nrow(trainingData))\n",
    "print(nrow(testData))"
   ]
  },
  {
   "cell_type": "code",
   "execution_count": 24,
   "id": "27371a1a-d579-4fc7-b9f5-465819665ff3",
   "metadata": {},
   "outputs": [],
   "source": [
    "# Thực hiện linear Regression với train data.\n",
    "lmMod1 <- lm(sales ~., data = trainingData) # build the model"
   ]
  },
  {
   "cell_type": "code",
   "execution_count": 25,
   "id": "ef319822-6547-4909-95cd-c91bbe2bf150",
   "metadata": {},
   "outputs": [
    {
     "data": {
      "text/plain": [
       "\n",
       "Call:\n",
       "lm(formula = sales ~ ., data = trainingData)\n",
       "\n",
       "Residuals:\n",
       "    Min      1Q  Median      3Q     Max \n",
       "-6.7341 -1.0925  0.2395  1.4153  3.1875 \n",
       "\n",
       "Coefficients:\n",
       "             Estimate Std. Error t value Pr(>|t|)    \n",
       "(Intercept)  3.971115   0.449788   8.829  5.1e-15 ***\n",
       "youtube      0.043598   0.001636  26.653  < 2e-16 ***\n",
       "facebook     0.191722   0.009544  20.089  < 2e-16 ***\n",
       "newspaper   -0.003361   0.007215  -0.466    0.642    \n",
       "---\n",
       "Signif. codes:  0 '***' 0.001 '**' 0.01 '*' 0.05 '.' 0.1 ' ' 1\n",
       "\n",
       "Residual standard error: 1.93 on 134 degrees of freedom\n",
       "Multiple R-squared:  0.899,\tAdjusted R-squared:  0.8967 \n",
       "F-statistic: 397.4 on 3 and 134 DF,  p-value: < 2.2e-16\n"
      ]
     },
     "metadata": {},
     "output_type": "display_data"
    }
   ],
   "source": [
    "# In summary của model\n",
    "summary(lmMod1)"
   ]
  },
  {
   "cell_type": "code",
   "execution_count": 26,
   "id": "6b22a488-0180-40c9-978a-b100ae6dad8e",
   "metadata": {},
   "outputs": [
    {
     "data": {
      "text/html": [
       "<table class=\"dataframe\">\n",
       "<caption>A data.frame: 6 × 2</caption>\n",
       "<thead>\n",
       "\t<tr><th></th><th scope=col>iPred1</th><th scope=col>sales</th></tr>\n",
       "\t<tr><th></th><th scope=col>&lt;dbl&gt;</th><th scope=col>&lt;dbl&gt;</th></tr>\n",
       "</thead>\n",
       "<tbody>\n",
       "\t<tr><th scope=row>7</th><td>14.43</td><td>14.16</td></tr>\n",
       "\t<tr><th scope=row>8</th><td>14.72</td><td>15.84</td></tr>\n",
       "\t<tr><th scope=row>10</th><td>14.94</td><td>12.72</td></tr>\n",
       "\t<tr><th scope=row>11</th><td> 8.67</td><td>10.32</td></tr>\n",
       "\t<tr><th scope=row>18</th><td>27.58</td><td>29.28</td></tr>\n",
       "\t<tr><th scope=row>20</th><td>17.10</td><td>17.52</td></tr>\n",
       "</tbody>\n",
       "</table>\n"
      ],
      "text/latex": [
       "A data.frame: 6 × 2\n",
       "\\begin{tabular}{r|ll}\n",
       "  & iPred1 & sales\\\\\n",
       "  & <dbl> & <dbl>\\\\\n",
       "\\hline\n",
       "\t7 & 14.43 & 14.16\\\\\n",
       "\t8 & 14.72 & 15.84\\\\\n",
       "\t10 & 14.94 & 12.72\\\\\n",
       "\t11 &  8.67 & 10.32\\\\\n",
       "\t18 & 27.58 & 29.28\\\\\n",
       "\t20 & 17.10 & 17.52\\\\\n",
       "\\end{tabular}\n"
      ],
      "text/markdown": [
       "\n",
       "A data.frame: 6 × 2\n",
       "\n",
       "| <!--/--> | iPred1 &lt;dbl&gt; | sales &lt;dbl&gt; |\n",
       "|---|---|---|\n",
       "| 7 | 14.43 | 14.16 |\n",
       "| 8 | 14.72 | 15.84 |\n",
       "| 10 | 14.94 | 12.72 |\n",
       "| 11 |  8.67 | 10.32 |\n",
       "| 18 | 27.58 | 29.28 |\n",
       "| 20 | 17.10 | 17.52 |\n",
       "\n"
      ],
      "text/plain": [
       "   iPred1 sales\n",
       "7  14.43  14.16\n",
       "8  14.72  15.84\n",
       "10 14.94  12.72\n",
       "11  8.67  10.32\n",
       "18 27.58  29.28\n",
       "20 17.10  17.52"
      ]
     },
     "metadata": {},
     "output_type": "display_data"
    }
   ],
   "source": [
    "# Dự đoán y_test_predict từ test data => so sánh y_test_pred với y_test\n",
    "iPred1 <- predict(lmMod1, testData) \n",
    "head(cbind(round(as.data.frame(iPred1),2), testData[4]))"
   ]
  },
  {
   "cell_type": "code",
   "execution_count": 27,
   "id": "2afa4029-6410-4859-9ad3-f61f4a7f0dbd",
   "metadata": {},
   "outputs": [
    {
     "name": "stdout",
     "output_type": "stream",
     "text": [
      "[1] \"mse: 3.6180636721805\"\n",
      "[1] \"mse in test: 5.21203493060536\"\n",
      "[1] \"r^2 cho train: 0.898969349347149\"\n",
      "[1] \"r^2 cho test: 0.896663795760123\"\n"
     ]
    }
   ],
   "source": [
    "# Tính Mean Square Error (mse), r^2 cho train, r^2 cho test. \n",
    "mse1 <- mean(lmMod1$residuals^2)\n",
    "print(paste('mse:', mse1))\n",
    "mse_test1 <- mean((testData$sales - iPred1)^2)\n",
    "print(paste('mse in test:', mse_test1))\n",
    "print(paste('r^2 cho train:', summary(lmMod1)$r.squared))\n",
    "print(paste('r^2 cho test:', summary(lm(sales ~., data=testData))$r.squared))"
   ]
  },
  {
   "cell_type": "markdown",
   "id": "3ca87652-deb1-4549-b25b-bf29d0e4738b",
   "metadata": {},
   "source": [
    "- Nhận xét: model fits 89% data"
   ]
  },
  {
   "cell_type": "code",
   "execution_count": 28,
   "id": "7d7313a0-f9eb-4d6d-bc7b-39de266495a9",
   "metadata": {},
   "outputs": [
    {
     "name": "stdout",
     "output_type": "stream",
     "text": [
      "(Intercept) \n",
      "   3.971115 \n",
      "   youtube \n",
      "0.04359755 \n",
      " facebook \n",
      "0.1917224 \n",
      "   newspaper \n",
      "-0.003360998 \n"
     ]
    }
   ],
   "source": [
    "# Tìm Coefficients, Intercept\n",
    "\n",
    "b <- coef(lmMod1)[1]\n",
    "print(b)\n",
    "\n",
    "yt <- coef(lmMod1)[2]\n",
    "fb <- coef(lmMod1)[3]\n",
    "np <- coef(lmMod1)[4]\n",
    "\n",
    "print(yt)\n",
    "print(fb)\n",
    "print(np)"
   ]
  },
  {
   "cell_type": "code",
   "execution_count": null,
   "id": "fb21af57-41e9-47f6-bba9-9c1f625257b8",
   "metadata": {},
   "outputs": [],
   "source": []
  }
 ],
 "metadata": {
  "kernelspec": {
   "display_name": "R",
   "language": "R",
   "name": "ir"
  },
  "language_info": {
   "codemirror_mode": "r",
   "file_extension": ".r",
   "mimetype": "text/x-r-source",
   "name": "R",
   "pygments_lexer": "r",
   "version": "4.2.2"
  }
 },
 "nbformat": 4,
 "nbformat_minor": 5
}
